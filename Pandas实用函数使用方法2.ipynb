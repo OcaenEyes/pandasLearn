{
 "cells": [
  {
   "cell_type": "markdown",
   "metadata": {},
   "source": [
    "### Pandas实用函数实用方法2"
   ]
  },
  {
   "cell_type": "markdown",
   "metadata": {},
   "source": [
    "- 1 pandas的分组groupby()函数\n",
    "- 2 pandas的透视表pivot_table\n",
    "- 3 pandas的apply()和applymap()函数(还有pd.to_*的用法）\n",
    "- 4 pandas的set_index和reset_index的用法\n",
    "- 5 pandas的分组取最大多行并求和函数nlargest()\n",
    "- 6 pandas的多列拼接成一列函数.str.cat()\n",
    "- 7 pandas的reshape(1,-1)什么意思？\n",
    "- 8 pandas的日期时间间隔运算\n",
    "- 9 删除有空值的行和列"
   ]
  },
  {
   "cell_type": "code",
   "execution_count": null,
   "metadata": {},
   "outputs": [],
   "source": []
  }
 ],
 "metadata": {
  "kernelspec": {
   "display_name": "Python 3",
   "language": "python",
   "name": "python3"
  },
  "language_info": {
   "codemirror_mode": {
    "name": "ipython",
    "version": 3
   },
   "file_extension": ".py",
   "mimetype": "text/x-python",
   "name": "python",
   "nbconvert_exporter": "python",
   "pygments_lexer": "ipython3",
   "version": "3.7.0"
  }
 },
 "nbformat": 4,
 "nbformat_minor": 2
}
