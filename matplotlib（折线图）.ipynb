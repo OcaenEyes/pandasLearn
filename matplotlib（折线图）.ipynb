{
 "cells": [
  {
   "cell_type": "markdown",
   "metadata": {},
   "source": [
    "### matplotlib（折线图）"
   ]
  },
  {
   "cell_type": "markdown",
   "metadata": {},
   "source": [
    "适用于“经济走势图”“销售波动图”“PV监控图”"
   ]
  },
  {
   "cell_type": "markdown",
   "metadata": {},
   "source": [
    "#### plot 函数"
   ]
  },
  {
   "cell_type": "markdown",
   "metadata": {},
   "source": [
    "```\n",
    "    plt.plot(x,y,linestyle,\n",
    "         linewidth,color,marker,\n",
    "         markersize,markeredgecolor,\n",
    "         markerfactcolor,label,alpha)\n",
    "```"
   ]
  },
  {
   "cell_type": "markdown",
   "metadata": {},
   "source": [
    "- x：指定折线图的x轴数据；\n",
    "- y：指定折线图的y轴数据；\n",
    "- linestyle：指定折线的类型，可以是实线、虚线、点虚线、点点线等，默认文实线；\n",
    "- linewidth：指定折线的宽度；\n",
    "- marker：可以为折线图添加点，该参数是设置点的形状；\n",
    "- markersize：设置点的大小；\n",
    "- markeredgecolor：设置点的边框色；\n",
    "- markerfactcolor：设置点的填充色；\n",
    "- label：为折线图添加标签，类似于图例的作用；"
   ]
  },
  {
   "cell_type": "code",
   "execution_count": null,
   "metadata": {},
   "outputs": [],
   "source": []
  }
 ],
 "metadata": {
  "kernelspec": {
   "display_name": "Python 3",
   "language": "python",
   "name": "python3"
  },
  "language_info": {
   "codemirror_mode": {
    "name": "ipython",
    "version": 3
   },
   "file_extension": ".py",
   "mimetype": "text/x-python",
   "name": "python",
   "nbconvert_exporter": "python",
   "pygments_lexer": "ipython3",
   "version": "3.7.0"
  }
 },
 "nbformat": 4,
 "nbformat_minor": 2
}
