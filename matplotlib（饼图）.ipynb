{
 "cells": [
  {
   "cell_type": "markdown",
   "metadata": {},
   "source": [
    "### matplotlib（饼图）"
   ]
  },
  {
   "cell_type": "markdown",
   "metadata": {},
   "source": [
    "#### pie 函数"
   ]
  },
  {
   "cell_type": "markdown",
   "metadata": {},
   "source": [
    "```plt.pie(x, explode=None, labels=None, colors=None, \n",
    "        autopct=None, pctdistance=0.6, shadow=False, \n",
    "        labeldistance=1.1, startangle=None, \n",
    "        radius=None, counterclock=True, wedgeprops=None, \n",
    "        textprops=None, center=(0, 0), frame=False)```"
   ]
  },
  {
   "cell_type": "markdown",
   "metadata": {},
   "source": [
    "- x：指定绘图的数据；\n",
    "- explode：指定饼图某些部分的突出显示，即呈现爆炸式；\n",
    "- labels：为饼图添加标签说明，类似于图例说明；\n",
    "- colors：指定饼图的填充色；\n",
    "- autopct：自动添加百分比显示，可以采用格式化的方法显示；\n",
    "- pctdistance：设置百分比标签与圆心的距离；\n",
    "- shadow：是否添加饼图的阴影效果；\n",
    "- labeldistance：设置各扇形标签（图例）与圆心的距离；\n",
    "- startangle：设置饼图的初始摆放角度；\n",
    "- radius：设置饼图的半径大小；\n",
    "- counterclock：是否让饼图按逆时针顺序呈现；\n",
    "- wedgeprops：设置饼图内外边界的属性，如边界线的粗细、颜色等；\n",
    "- textprops：设置饼图中文本的属性，如字体大小、颜色等；\n",
    "- center：指定饼图的中心点位置，默认为原点\n",
    "- frame：是否要显示饼图背后的图框，如果设置为True的话，需要同时控制图框x轴、y轴的范围和饼图的中心位置；"
   ]
  },
  {
   "cell_type": "code",
   "execution_count": 1,
   "metadata": {},
   "outputs": [
    {
     "data": {
      "text/plain": [
       "<Figure size 640x480 with 1 Axes>"
      ]
     },
     "metadata": {},
     "output_type": "display_data"
    }
   ],
   "source": [
    "# 导入第三方模块\n",
    "import matplotlib.pyplot as plt\n",
    "\n",
    "# 设置绘图的主题风格（不妨使用R中的ggplot分隔）\n",
    "plt.style.use('ggplot')\n",
    "\n",
    "# 构造数据\n",
    "edu = [0.2515,0.3724,0.3336,0.0368,0.0057]\n",
    "labels = ['中专','大专','本科','硕士','其他']\n",
    "\n",
    "explode = [0,0.1,0,0,0]  # 用于突出显示大专学历人群\n",
    "colors=['#9999ff','#ff9999','#7777aa','#2442aa','#dd5555'] # 自定义颜色\n",
    "\n",
    "# 中文乱码和坐标轴负号的处理\n",
    "plt.rcParams['font.sans-serif'] = ['Microsoft YaHei']\n",
    "plt.rcParams['axes.unicode_minus'] = False\n",
    "\n",
    "# 将横、纵坐标轴标准化处理，保证饼图是一个正圆，否则为椭圆\n",
    "plt.axes(aspect='equal')\n",
    "\n",
    "# 控制x轴和y轴的范围\n",
    "plt.xlim(0,4)\n",
    "plt.ylim(0,4)\n",
    "\n",
    "# 绘制饼图\n",
    "plt.pie(x = edu, # 绘图数据\n",
    "        explode=explode, # 突出显示大专人群\n",
    "        labels=labels, # 添加教育水平标签\n",
    "        colors=colors, # 设置饼图的自定义填充色\n",
    "        autopct='%.1f%%', # 设置百分比的格式，这里保留一位小数\n",
    "        pctdistance=0.8,  # 设置百分比标签与圆心的距离\n",
    "        labeldistance = 1.15, # 设置教育水平标签与圆心的距离\n",
    "        startangle = 180, # 设置饼图的初始角度\n",
    "        radius = 1.5, # 设置饼图的半径\n",
    "        counterclock = False, # 是否逆时针，这里设置为顺时针方向\n",
    "        wedgeprops = {'linewidth': 1.5, 'edgecolor':'green'},# 设置饼图内外边界的属性值\n",
    "        textprops = {'fontsize':12, 'color':'k'}, # 设置文本标签的属性值\n",
    "        center = (1.8,1.8), # 设置饼图的原点\n",
    "        frame = 1 )# 是否显示饼图的图框，这里设置显示\n",
    "\n",
    "# 删除x轴和y轴的刻度\n",
    "plt.xticks(())\n",
    "plt.yticks(())\n",
    "# 添加图标题\n",
    "plt.title('芝麻信用失信用户教育水平分布')\n",
    "\n",
    "# 显示图形\n",
    "plt.show()"
   ]
  },
  {
   "cell_type": "code",
   "execution_count": null,
   "metadata": {},
   "outputs": [],
   "source": []
  }
 ],
 "metadata": {
  "kernelspec": {
   "display_name": "Python 3",
   "language": "python",
   "name": "python3"
  },
  "language_info": {
   "codemirror_mode": {
    "name": "ipython",
    "version": 3
   },
   "file_extension": ".py",
   "mimetype": "text/x-python",
   "name": "python",
   "nbconvert_exporter": "python",
   "pygments_lexer": "ipython3",
   "version": "3.7.0"
  }
 },
 "nbformat": 4,
 "nbformat_minor": 2
}
