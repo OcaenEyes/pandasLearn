{
 "cells": [
  {
   "cell_type": "markdown",
   "metadata": {},
   "source": [
    "### matplotlib（雷达图）"
   ]
  },
  {
   "cell_type": "markdown",
   "metadata": {},
   "source": [
    "雷达图刻画某些指标的横向 /纵向的对比关系"
   ]
  },
  {
   "cell_type": "code",
   "execution_count": 2,
   "metadata": {},
   "outputs": [
    {
     "data": {
      "text/plain": [
       "<Figure size 640x480 with 1 Axes>"
      ]
     },
     "metadata": {},
     "output_type": "display_data"
    }
   ],
   "source": [
    "# 导入第三方模块\n",
    "import numpy as np\n",
    "import matplotlib.pyplot as plt\n",
    "\n",
    "# 中文和负号的正常显示\n",
    "plt.rcParams['font.sans-serif'] = 'Microsoft YaHei'\n",
    "plt.rcParams['axes.unicode_minus'] = False\n",
    "\n",
    "# 使用ggplot的绘图风格\n",
    "plt.style.use('ggplot')\n",
    "\n",
    "# 构造数据\n",
    "values = [3.2,2.1,3.5,2.8,3]\n",
    "feature = ['个人能力','QC知识','解决问题能力','服务质量意识','团队精神']\n",
    "\n",
    "N = len(values)\n",
    "# 设置雷达图的角度，用于平分切开一个圆面\n",
    "angles=np.linspace(0, 2*np.pi, N, endpoint=False)\n",
    "\n",
    "# 为了使雷达图一圈封闭起来，需要下面的步骤\n",
    "values=np.concatenate((values,[values[0]]))\n",
    "angles=np.concatenate((angles,[angles[0]]))\n",
    "\n",
    "# 绘图\n",
    "fig=plt.figure()\n",
    "# 这里一定要设置为极坐标格式\n",
    "ax = fig.add_subplot(111, polar=True)\n",
    "# 绘制折线图\n",
    "ax.plot(angles, values, 'o-', linewidth=2)\n",
    "# 填充颜色\n",
    "ax.fill(angles, values, alpha=0.25)\n",
    "# 添加每个特征的标签\n",
    "ax.set_thetagrids(angles * 180/np.pi, feature)\n",
    "# 设置雷达图的范围\n",
    "ax.set_ylim(0,5)\n",
    "# 添加标题\n",
    "plt.title('活动前后员工状态表现')\n",
    "# 添加网格线\n",
    "ax.grid(True)\n",
    "# 显示图形\n",
    "plt.show()"
   ]
  },
  {
   "cell_type": "code",
   "execution_count": null,
   "metadata": {},
   "outputs": [],
   "source": []
  }
 ],
 "metadata": {
  "kernelspec": {
   "display_name": "Python 3",
   "language": "python",
   "name": "python3"
  },
  "language_info": {
   "codemirror_mode": {
    "name": "ipython",
    "version": 3
   },
   "file_extension": ".py",
   "mimetype": "text/x-python",
   "name": "python",
   "nbconvert_exporter": "python",
   "pygments_lexer": "ipython3",
   "version": "3.7.0"
  }
 },
 "nbformat": 4,
 "nbformat_minor": 2
}
