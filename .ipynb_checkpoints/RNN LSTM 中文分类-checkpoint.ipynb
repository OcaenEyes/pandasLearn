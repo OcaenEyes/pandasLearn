{
 "cells": [
  {
   "cell_type": "code",
   "execution_count": 7,
   "metadata": {},
   "outputs": [],
   "source": [
    "import pandas as pd\n",
    "import numpy as np\n",
    "import json\n",
    "import os\n",
    "from keras.preprocessing.text import Tokenizer\n",
    "from keras.preprocessing import sequence\n",
    "from keras.models import Sequential\n",
    "from keras.layers.embeddings import Embedding\n",
    "from keras.layers import Dropout, Conv1D,MaxPooling1D, LSTM, Dense, Bidirectional,SimpleRNN\n",
    "from keras.utils import to_categorical"
   ]
  },
  {
   "cell_type": "code",
   "execution_count": 42,
   "metadata": {},
   "outputs": [],
   "source": [
    "data = pd.read_csv('dataset/ai-challenger/sentiment_analysis_trainingset.csv')"
   ]
  },
  {
   "cell_type": "code",
   "execution_count": 43,
   "metadata": {},
   "outputs": [
    {
     "data": {
      "text/html": [
       "<div>\n",
       "<style scoped>\n",
       "    .dataframe tbody tr th:only-of-type {\n",
       "        vertical-align: middle;\n",
       "    }\n",
       "\n",
       "    .dataframe tbody tr th {\n",
       "        vertical-align: top;\n",
       "    }\n",
       "\n",
       "    .dataframe thead th {\n",
       "        text-align: right;\n",
       "    }\n",
       "</style>\n",
       "<table border=\"1\" class=\"dataframe\">\n",
       "  <thead>\n",
       "    <tr style=\"text-align: right;\">\n",
       "      <th></th>\n",
       "      <th>id</th>\n",
       "      <th>content</th>\n",
       "      <th>location_traffic_convenience</th>\n",
       "      <th>location_distance_from_business_district</th>\n",
       "      <th>location_easy_to_find</th>\n",
       "      <th>service_wait_time</th>\n",
       "      <th>service_waiters_attitude</th>\n",
       "      <th>service_parking_convenience</th>\n",
       "      <th>service_serving_speed</th>\n",
       "      <th>price_level</th>\n",
       "      <th>...</th>\n",
       "      <th>environment_decoration</th>\n",
       "      <th>environment_noise</th>\n",
       "      <th>environment_space</th>\n",
       "      <th>environment_cleaness</th>\n",
       "      <th>dish_portion</th>\n",
       "      <th>dish_taste</th>\n",
       "      <th>dish_look</th>\n",
       "      <th>dish_recommendation</th>\n",
       "      <th>others_overall_experience</th>\n",
       "      <th>others_willing_to_consume_again</th>\n",
       "    </tr>\n",
       "  </thead>\n",
       "  <tbody>\n",
       "    <tr>\n",
       "      <th>0</th>\n",
       "      <td>0</td>\n",
       "      <td>\"吼吼吼，萌死人的棒棒糖，中了大众点评的霸王餐，太可爱了。一直就好奇这个棒棒糖是怎么个东西，...</td>\n",
       "      <td>-2</td>\n",
       "      <td>-2</td>\n",
       "      <td>-2</td>\n",
       "      <td>-2</td>\n",
       "      <td>1</td>\n",
       "      <td>-2</td>\n",
       "      <td>-2</td>\n",
       "      <td>-2</td>\n",
       "      <td>...</td>\n",
       "      <td>-2</td>\n",
       "      <td>-2</td>\n",
       "      <td>-2</td>\n",
       "      <td>-2</td>\n",
       "      <td>-2</td>\n",
       "      <td>-2</td>\n",
       "      <td>1</td>\n",
       "      <td>-2</td>\n",
       "      <td>1</td>\n",
       "      <td>-2</td>\n",
       "    </tr>\n",
       "    <tr>\n",
       "      <th>1</th>\n",
       "      <td>1</td>\n",
       "      <td>\"第三次参加大众点评网霸王餐的活动。这家店给人整体感觉一般。首先环境只能算中等，其次霸王餐提...</td>\n",
       "      <td>-2</td>\n",
       "      <td>-2</td>\n",
       "      <td>-2</td>\n",
       "      <td>-2</td>\n",
       "      <td>-2</td>\n",
       "      <td>-2</td>\n",
       "      <td>-2</td>\n",
       "      <td>0</td>\n",
       "      <td>...</td>\n",
       "      <td>0</td>\n",
       "      <td>0</td>\n",
       "      <td>0</td>\n",
       "      <td>0</td>\n",
       "      <td>1</td>\n",
       "      <td>-2</td>\n",
       "      <td>-2</td>\n",
       "      <td>-2</td>\n",
       "      <td>1</td>\n",
       "      <td>-2</td>\n",
       "    </tr>\n",
       "    <tr>\n",
       "      <th>2</th>\n",
       "      <td>2</td>\n",
       "      <td>\"4人同行 点了10个小吃\\n榴莲酥 榴莲味道不足 松软 奶味浓\\n虾饺 好吃 两颗大虾仁\\...</td>\n",
       "      <td>-2</td>\n",
       "      <td>-2</td>\n",
       "      <td>-2</td>\n",
       "      <td>-2</td>\n",
       "      <td>0</td>\n",
       "      <td>-2</td>\n",
       "      <td>1</td>\n",
       "      <td>0</td>\n",
       "      <td>...</td>\n",
       "      <td>-2</td>\n",
       "      <td>-2</td>\n",
       "      <td>1</td>\n",
       "      <td>-2</td>\n",
       "      <td>0</td>\n",
       "      <td>1</td>\n",
       "      <td>-2</td>\n",
       "      <td>-2</td>\n",
       "      <td>0</td>\n",
       "      <td>-2</td>\n",
       "    </tr>\n",
       "    <tr>\n",
       "      <th>3</th>\n",
       "      <td>3</td>\n",
       "      <td>\"之前评价了莫名其妙被删 果断继续差评！ 换了菜单 价格更低 开始砸牌子 但套餐还是有150...</td>\n",
       "      <td>-2</td>\n",
       "      <td>-2</td>\n",
       "      <td>-2</td>\n",
       "      <td>-2</td>\n",
       "      <td>-2</td>\n",
       "      <td>-2</td>\n",
       "      <td>-2</td>\n",
       "      <td>0</td>\n",
       "      <td>...</td>\n",
       "      <td>-2</td>\n",
       "      <td>-2</td>\n",
       "      <td>-2</td>\n",
       "      <td>-2</td>\n",
       "      <td>-2</td>\n",
       "      <td>-1</td>\n",
       "      <td>-2</td>\n",
       "      <td>-2</td>\n",
       "      <td>-1</td>\n",
       "      <td>-1</td>\n",
       "    </tr>\n",
       "    <tr>\n",
       "      <th>4</th>\n",
       "      <td>4</td>\n",
       "      <td>\"出乎意料地惊艳，椰子鸡清热降火，美容养颜，大大满足了爱吃火锅怕上火星人。椰子冻是帅帅的老板...</td>\n",
       "      <td>-2</td>\n",
       "      <td>-2</td>\n",
       "      <td>-2</td>\n",
       "      <td>-2</td>\n",
       "      <td>-2</td>\n",
       "      <td>-2</td>\n",
       "      <td>-2</td>\n",
       "      <td>-2</td>\n",
       "      <td>...</td>\n",
       "      <td>-2</td>\n",
       "      <td>-2</td>\n",
       "      <td>-2</td>\n",
       "      <td>-2</td>\n",
       "      <td>-2</td>\n",
       "      <td>1</td>\n",
       "      <td>1</td>\n",
       "      <td>-2</td>\n",
       "      <td>1</td>\n",
       "      <td>-2</td>\n",
       "    </tr>\n",
       "  </tbody>\n",
       "</table>\n",
       "<p>5 rows × 22 columns</p>\n",
       "</div>"
      ],
      "text/plain": [
       "   id                                            content  \\\n",
       "0   0  \"吼吼吼，萌死人的棒棒糖，中了大众点评的霸王餐，太可爱了。一直就好奇这个棒棒糖是怎么个东西，...   \n",
       "1   1  \"第三次参加大众点评网霸王餐的活动。这家店给人整体感觉一般。首先环境只能算中等，其次霸王餐提...   \n",
       "2   2  \"4人同行 点了10个小吃\\n榴莲酥 榴莲味道不足 松软 奶味浓\\n虾饺 好吃 两颗大虾仁\\...   \n",
       "3   3  \"之前评价了莫名其妙被删 果断继续差评！ 换了菜单 价格更低 开始砸牌子 但套餐还是有150...   \n",
       "4   4  \"出乎意料地惊艳，椰子鸡清热降火，美容养颜，大大满足了爱吃火锅怕上火星人。椰子冻是帅帅的老板...   \n",
       "\n",
       "   location_traffic_convenience  location_distance_from_business_district  \\\n",
       "0                            -2                                        -2   \n",
       "1                            -2                                        -2   \n",
       "2                            -2                                        -2   \n",
       "3                            -2                                        -2   \n",
       "4                            -2                                        -2   \n",
       "\n",
       "   location_easy_to_find  service_wait_time  service_waiters_attitude  \\\n",
       "0                     -2                 -2                         1   \n",
       "1                     -2                 -2                        -2   \n",
       "2                     -2                 -2                         0   \n",
       "3                     -2                 -2                        -2   \n",
       "4                     -2                 -2                        -2   \n",
       "\n",
       "   service_parking_convenience  service_serving_speed  price_level  ...  \\\n",
       "0                           -2                     -2           -2  ...   \n",
       "1                           -2                     -2            0  ...   \n",
       "2                           -2                      1            0  ...   \n",
       "3                           -2                     -2            0  ...   \n",
       "4                           -2                     -2           -2  ...   \n",
       "\n",
       "   environment_decoration  environment_noise  environment_space  \\\n",
       "0                      -2                 -2                 -2   \n",
       "1                       0                  0                  0   \n",
       "2                      -2                 -2                  1   \n",
       "3                      -2                 -2                 -2   \n",
       "4                      -2                 -2                 -2   \n",
       "\n",
       "   environment_cleaness  dish_portion  dish_taste  dish_look  \\\n",
       "0                    -2            -2          -2          1   \n",
       "1                     0             1          -2         -2   \n",
       "2                    -2             0           1         -2   \n",
       "3                    -2            -2          -1         -2   \n",
       "4                    -2            -2           1          1   \n",
       "\n",
       "   dish_recommendation  others_overall_experience  \\\n",
       "0                   -2                          1   \n",
       "1                   -2                          1   \n",
       "2                   -2                          0   \n",
       "3                   -2                         -1   \n",
       "4                   -2                          1   \n",
       "\n",
       "   others_willing_to_consume_again  \n",
       "0                               -2  \n",
       "1                               -2  \n",
       "2                               -2  \n",
       "3                               -1  \n",
       "4                               -2  \n",
       "\n",
       "[5 rows x 22 columns]"
      ]
     },
     "execution_count": 43,
     "metadata": {},
     "output_type": "execute_result"
    }
   ],
   "source": [
    "data.head()"
   ]
  },
  {
   "cell_type": "code",
   "execution_count": 44,
   "metadata": {},
   "outputs": [
    {
     "data": {
      "text/plain": [
       "0    \"吼吼吼，萌死人的棒棒糖，中了大众点评的霸王餐，太可爱了。一直就好奇这个棒棒糖是怎么个东西，...\n",
       "1    \"第三次参加大众点评网霸王餐的活动。这家店给人整体感觉一般。首先环境只能算中等，其次霸王餐提...\n",
       "2    \"4人同行 点了10个小吃\\n榴莲酥 榴莲味道不足 松软 奶味浓\\n虾饺 好吃 两颗大虾仁\\...\n",
       "3    \"之前评价了莫名其妙被删 果断继续差评！ 换了菜单 价格更低 开始砸牌子 但套餐还是有150...\n",
       "4    \"出乎意料地惊艳，椰子鸡清热降火，美容养颜，大大满足了爱吃火锅怕上火星人。椰子冻是帅帅的老板...\n",
       "Name: content, dtype: object"
      ]
     },
     "execution_count": 44,
     "metadata": {},
     "output_type": "execute_result"
    }
   ],
   "source": [
    "data[\"content\"].head()"
   ]
  },
  {
   "cell_type": "code",
   "execution_count": 45,
   "metadata": {},
   "outputs": [
    {
     "data": {
      "text/plain": [
       "0         1\n",
       "1         1\n",
       "2         0\n",
       "3        -1\n",
       "4         1\n",
       "         ..\n",
       "104995    1\n",
       "104996    1\n",
       "104997    0\n",
       "104998    1\n",
       "104999    0\n",
       "Name: others_overall_experience, Length: 105000, dtype: int64"
      ]
     },
     "execution_count": 45,
     "metadata": {},
     "output_type": "execute_result"
    }
   ],
   "source": [
    "labels = data[\"others_overall_experience\"]\n",
    "labels"
   ]
  },
  {
   "cell_type": "code",
   "execution_count": 46,
   "metadata": {},
   "outputs": [
    {
     "data": {
      "text/plain": [
       "<keras_preprocessing.text.Tokenizer at 0x1fd4c3599a0>"
      ]
     },
     "execution_count": 46,
     "metadata": {},
     "output_type": "execute_result"
    }
   ],
   "source": [
    "tokenizer = Tokenizer(filters='\\t\\n', char_level=True)\n",
    "tokenizer"
   ]
  },
  {
   "cell_type": "code",
   "execution_count": 47,
   "metadata": {},
   "outputs": [],
   "source": [
    "contents = data[\"content\"]"
   ]
  },
  {
   "cell_type": "code",
   "execution_count": 48,
   "metadata": {},
   "outputs": [],
   "source": [
    "tokenizer.fit_on_texts(contents)"
   ]
  },
  {
   "cell_type": "code",
   "execution_count": 49,
   "metadata": {},
   "outputs": [],
   "source": [
    "word_dict_file = \"build/dictionary.json\""
   ]
  },
  {
   "cell_type": "code",
   "execution_count": 50,
   "metadata": {},
   "outputs": [],
   "source": [
    "if not os.path.exists(os.path.dirname(word_dict_file)):\n",
    "    os.makedirs(os.path.dirname(word_dict_file))\n",
    "with open (word_dict_file,\"w\",encoding=\"utf-8\") as outfile:\n",
    "    json.dump(tokenizer.word_index,outfile,ensure_ascii=False)\n",
    "\n",
    "num_words = len(tokenizer.word_index)+1"
   ]
  },
  {
   "cell_type": "code",
   "execution_count": 51,
   "metadata": {},
   "outputs": [
    {
     "data": {
      "text/plain": [
       "8216"
      ]
     },
     "execution_count": 51,
     "metadata": {},
     "output_type": "execute_result"
    }
   ],
   "source": [
    "num_words"
   ]
  },
  {
   "cell_type": "code",
   "execution_count": 52,
   "metadata": {},
   "outputs": [],
   "source": [
    "# 将文字使用字段转成数字\n",
    "contents_tokenizer = tokenizer.texts_to_sequences(contents)\n",
    "# contents_tokenizer"
   ]
  },
  {
   "cell_type": "code",
   "execution_count": 53,
   "metadata": {},
   "outputs": [],
   "source": [
    "# 将文本填充到相同的长度\n",
    "x_processed = sequence.pad_sequences(contents_tokenizer,maxlen=512, value=0)"
   ]
  },
  {
   "cell_type": "code",
   "execution_count": 54,
   "metadata": {},
   "outputs": [
    {
     "data": {
      "text/plain": [
       "array([   0,    0,    0,    0,    0,    0,    0,    0,    0,    0,    0,\n",
       "          0,    0,    0,    0,    0,    0,    0,    0,    0,    0,    0,\n",
       "          0,    0,    0,    0,    0,    0,    0,    0,    0,    0,    0,\n",
       "          0,    0,    0,    0,    0,    0,    0,    0,    0,    0,    0,\n",
       "          0,    0,    0,    0,    0,    0,    0,    0,    0,    0,    0,\n",
       "          0,    0,    0,    0,    0,    0,    0,    0,    0,    0,    0,\n",
       "          0,    0,    0,    0,    0,    0,    0,    0,    0,    0,    0,\n",
       "          0,    0,    0,    0,    0,    0,    0,    0,    0,    0,    0,\n",
       "          0,    0,    0,    0,    0,    0,    0,    0,    0,    0,    0,\n",
       "          0,    0,    0,    0,    0,    0,    0,    0,    0,    0,    0,\n",
       "          0,    0,    0,    0,    0,    0,    0,    0,    0,    0,    0,\n",
       "          0,    0,    0,    0,    0,    0,    0,    0,    0,    0,    0,\n",
       "          0,    0,    0,    0,    0,    0,    0,    0,    0,    0,    0,\n",
       "          0,    0,    0,    0,    0,    0,    0,    0,    0,    0,    0,\n",
       "          0,    0,    0,    0,    0,    0,    0,    0,    0,    0,    0,\n",
       "          0,    0,    0,    0,    0,    0,    0,    0,    0,    0,    0,\n",
       "          0,    0,    0,    0,    0,    0,    0,    0,    0,    0,    0,\n",
       "          0,    0,    0,    0,    0,    0,    0,    0,    0,    0,    0,\n",
       "          0,    0,    0,    0,    0,    0,    0,    0,   24,  110,  374,\n",
       "        858,  108,    2,  674,  169,   10,   91,   31,    1,   44,   58,\n",
       "        110,  374,   13,    5,   13,   11,   35,   10,   27,  716,  187,\n",
       "         28,   30,  775,  791,  159,   22,   16,  169,  115,    4, 1089,\n",
       "        217,  719,    3,   16,   25,   41,   44,   87,   60,   29,    2,\n",
       "        674,  169,   15,    4,   10,  217,  719,    2,    1,   66,   40,\n",
       "         27,  253,    2,  756,  526,  785,  567,  877, 1128,   28,   32,\n",
       "       1455,  655,    2,    4,  858,  108,    2,  411,  632,  112,  500,\n",
       "        399,  584,  439,  579,    2,  217,  719,  169,  115,    1,    5,\n",
       "        239,   31,    4, 1089,  868,  105,    1,  303,  156,    8,  143,\n",
       "          1,   23,   19,    4,    8,   42, 2064,    1,   64,    8,   16,\n",
       "         25,  238,   95,  217,   94,  858,  108,    2,  245,   23,  284,\n",
       "          5,   33,  308,    7,    1,   64,  154,  159,  233,   21,   22,\n",
       "        100,   52,   69,   13,   22,    8,   45,    2,   20,   49,   19,\n",
       "          9,   14,    5,  308,    7,    1,   56,   32,  200,  138,    7,\n",
       "          8,  143,    3,   76,   16,  194,   18,   73,    2,   32,  340,\n",
       "         23,    9,   14,    5,  308,    1,   11,   40,   56,   32,   32,\n",
       "        340,   11,  181,    7,    1,   64,  110,  374,   15,  856,   53,\n",
       "         10,   33,    1,   19,  193,  311,  674,  169,   11,    7,    1,\n",
       "          5,   47,   17,   31,   23,   10,   13,   11,    3,    8,  116,\n",
       "        110,  374,    2,  121,  149,   15,    4,   10,   33,    2,    1,\n",
       "        727,  536,  235,  308,  107,  140,   16,   25,   11,    7,    3,\n",
       "         84,   56,  165, 1541,    8,  107,   16,   42,  254,   65,  470,\n",
       "          1,    8,  752,   77,   23,  134,    4, 1785, 1776,    3,   50,\n",
       "         54,   10,   13,    1,    5,   47,   21,   60,   48,    2,   76,\n",
       "          8,   63,   13,  233,   37,  758,   43,   32,    2,  517,  269,\n",
       "          5,   33,    1,   10,   27,    2,    8,   16,   27,  253,   43,\n",
       "         32,   23,   19,  140,  292,  198,  269,   25,    9,   14,    5,\n",
       "          4,   10,  305, 1013,    3,   24])"
      ]
     },
     "execution_count": 54,
     "metadata": {},
     "output_type": "execute_result"
    }
   ],
   "source": [
    "x_processed[5]"
   ]
  },
  {
   "cell_type": "code",
   "execution_count": 55,
   "metadata": {},
   "outputs": [],
   "source": [
    "train_size = int(data.shape[0] * .75)"
   ]
  },
  {
   "cell_type": "code",
   "execution_count": 56,
   "metadata": {},
   "outputs": [
    {
     "data": {
      "text/plain": [
       "78750"
      ]
     },
     "execution_count": 56,
     "metadata": {},
     "output_type": "execute_result"
    }
   ],
   "source": [
    "train_size"
   ]
  },
  {
   "cell_type": "code",
   "execution_count": 57,
   "metadata": {},
   "outputs": [],
   "source": [
    "x_train,x_test = x_processed[:train_size],x_processed[train_size:]"
   ]
  },
  {
   "cell_type": "code",
   "execution_count": 58,
   "metadata": {},
   "outputs": [
    {
     "data": {
      "text/plain": [
       "array([[   0,    0,    0, ...,  196,    3,   24],\n",
       "       [   0,    0,    0, ...,  452,  206,   24],\n",
       "       [   0,    0,    0, ...,  522,   50,   24],\n",
       "       ...,\n",
       "       [   0,    0,    0, ...,   26,   26,   24],\n",
       "       [   0,    0,    0, ...,   37,    3,   24],\n",
       "       [  35, 1354, 1097, ...,    2,    3,   24]])"
      ]
     },
     "execution_count": 58,
     "metadata": {},
     "output_type": "execute_result"
    }
   ],
   "source": [
    "x_train"
   ]
  },
  {
   "cell_type": "code",
   "execution_count": 59,
   "metadata": {},
   "outputs": [
    {
     "data": {
      "text/plain": [
       "array([[ 49, 140, 451, ...,   3,   3,  24],\n",
       "       [  0,   0,   0, ...,  46,  26,  24],\n",
       "       [  0,   0,   0, ...,  29,  90,  24],\n",
       "       ...,\n",
       "       [200, 111, 200, ...,   3,   3,  24],\n",
       "       [  0,   0,   0, ..., 165,  20,  24],\n",
       "       [  0,   0,   0, ...,  46,   3,  24]])"
      ]
     },
     "execution_count": 59,
     "metadata": {},
     "output_type": "execute_result"
    }
   ],
   "source": [
    "x_test"
   ]
  },
  {
   "cell_type": "code",
   "execution_count": 60,
   "metadata": {},
   "outputs": [
    {
     "data": {
      "text/plain": [
       "array([0., 0., 0., 1.], dtype=float32)"
      ]
     },
     "execution_count": 60,
     "metadata": {},
     "output_type": "execute_result"
    }
   ],
   "source": [
    "labels = labels+2\n",
    "labels = to_categorical(labels)\n",
    "labels[5]"
   ]
  },
  {
   "cell_type": "code",
   "execution_count": 61,
   "metadata": {},
   "outputs": [],
   "source": [
    "y_train,y_test = labels[:train_size],labels[train_size:]"
   ]
  },
  {
   "cell_type": "code",
   "execution_count": 62,
   "metadata": {},
   "outputs": [
    {
     "data": {
      "text/plain": [
       "(array([[   0,    0,    0, ...,  196,    3,   24],\n",
       "        [   0,    0,    0, ...,  452,  206,   24],\n",
       "        [   0,    0,    0, ...,  522,   50,   24],\n",
       "        ...,\n",
       "        [   0,    0,    0, ...,   26,   26,   24],\n",
       "        [   0,    0,    0, ...,   37,    3,   24],\n",
       "        [  35, 1354, 1097, ...,    2,    3,   24]]),\n",
       " array([[ 49, 140, 451, ...,   3,   3,  24],\n",
       "        [  0,   0,   0, ...,  46,  26,  24],\n",
       "        [  0,   0,   0, ...,  29,  90,  24],\n",
       "        ...,\n",
       "        [200, 111, 200, ...,   3,   3,  24],\n",
       "        [  0,   0,   0, ..., 165,  20,  24],\n",
       "        [  0,   0,   0, ...,  46,   3,  24]]))"
      ]
     },
     "execution_count": 62,
     "metadata": {},
     "output_type": "execute_result"
    }
   ],
   "source": [
    "x_train,x_test"
   ]
  },
  {
   "cell_type": "code",
   "execution_count": 63,
   "metadata": {},
   "outputs": [
    {
     "data": {
      "text/plain": [
       "(array([[0., 0., 0., 1.],\n",
       "        [0., 0., 0., 1.],\n",
       "        [0., 0., 1., 0.],\n",
       "        ...,\n",
       "        [0., 1., 0., 0.],\n",
       "        [0., 0., 0., 1.],\n",
       "        [0., 0., 0., 1.]], dtype=float32),\n",
       " array([[0., 1., 0., 0.],\n",
       "        [0., 0., 1., 0.],\n",
       "        [0., 0., 0., 1.],\n",
       "        ...,\n",
       "        [0., 0., 1., 0.],\n",
       "        [0., 0., 0., 1.],\n",
       "        [0., 0., 1., 0.]], dtype=float32))"
      ]
     },
     "execution_count": 63,
     "metadata": {},
     "output_type": "execute_result"
    }
   ],
   "source": [
    "y_train,y_test"
   ]
  },
  {
   "cell_type": "markdown",
   "metadata": {},
   "source": [
    "### 模型\n",
    "- 使用双向RNN\n",
    "- Embedding词嵌入层 将词向量映射到维度更低且能有词与词之间关系。\n",
    "- Bidirectional(SimpleRNN(units=512)) 双向RNN\n",
    "- Dropout 训练中每次更新输入单元的按比率随机设置为0 防止过拟合\n",
    "- Dense 全连接层 输出4个标签的概率\n",
    "- LSTM 长短期记忆网络\n",
    "- Conv1D一维卷积 MaxPooling1D 一维池化\n",
    "- categorical_crossentropy 多分类损失函数 二分类使用binary_crossentropy 优化器adam"
   ]
  },
  {
   "cell_type": "markdown",
   "metadata": {},
   "source": [
    "### 双向RNN"
   ]
  },
  {
   "cell_type": "code",
   "execution_count": 64,
   "metadata": {},
   "outputs": [],
   "source": [
    "# 双向CNN\n",
    "model1 = Sequential()\n",
    "model1.add(Embedding(num_words,32,input_length=512))\n",
    "model1.add(Dropout(0.2))\n",
    "model1.add(Bidirectional(SimpleRNN(units=512)))\n",
    "model1.add(Dropout(0.2))\n",
    "model1.add(Dense(4,activation='sigmoid'))\n",
    "model1.compile(loss='categorical_crossentropy',optimizer='adam', metrics=['accuracy'])"
   ]
  },
  {
   "cell_type": "code",
   "execution_count": 65,
   "metadata": {},
   "outputs": [
    {
     "name": "stdout",
     "output_type": "stream",
     "text": [
      "Model: \"sequential_2\"\n",
      "_________________________________________________________________\n",
      "Layer (type)                 Output Shape              Param #   \n",
      "=================================================================\n",
      "embedding_2 (Embedding)      (None, 512, 32)           262912    \n",
      "_________________________________________________________________\n",
      "dropout_3 (Dropout)          (None, 512, 32)           0         \n",
      "_________________________________________________________________\n",
      "bidirectional_2 (Bidirection (None, 1024)              558080    \n",
      "_________________________________________________________________\n",
      "dropout_4 (Dropout)          (None, 1024)              0         \n",
      "_________________________________________________________________\n",
      "dense_2 (Dense)              (None, 4)                 4100      \n",
      "=================================================================\n",
      "Total params: 825,092\n",
      "Trainable params: 825,092\n",
      "Non-trainable params: 0\n",
      "_________________________________________________________________\n"
     ]
    }
   ],
   "source": [
    "model1.summary()"
   ]
  },
  {
   "cell_type": "code",
   "execution_count": 66,
   "metadata": {},
   "outputs": [
    {
     "name": "stdout",
     "output_type": "stream",
     "text": [
      "Epoch 1/20\n",
      "116/116 [==============================] - 517s 4s/step - loss: 1.2033 - accuracy: 0.5780 - val_loss: 0.9285 - val_accuracy: 0.6597\n",
      "Epoch 2/20\n",
      "116/116 [==============================] - 512s 4s/step - loss: 0.9846 - accuracy: 0.6392 - val_loss: 0.9132 - val_accuracy: 0.6597\n",
      "Epoch 3/20\n",
      "116/116 [==============================] - 514s 4s/step - loss: 0.9786 - accuracy: 0.6377 - val_loss: 0.9377 - val_accuracy: 0.6597\n",
      "Epoch 4/20\n",
      "116/116 [==============================] - 514s 4s/step - loss: 0.9558 - accuracy: 0.6519 - val_loss: 0.9046 - val_accuracy: 0.6597\n",
      "Epoch 5/20\n",
      "116/116 [==============================] - 520s 4s/step - loss: 0.9317 - accuracy: 0.6539 - val_loss: 0.8841 - val_accuracy: 0.6597\n",
      "Epoch 6/20\n",
      "116/116 [==============================] - 530s 5s/step - loss: 0.8938 - accuracy: 0.6594 - val_loss: 0.8566 - val_accuracy: 0.6608\n",
      "Epoch 7/20\n",
      "116/116 [==============================] - 531s 5s/step - loss: 0.8436 - accuracy: 0.6694 - val_loss: 0.8862 - val_accuracy: 0.6655\n",
      "Epoch 8/20\n",
      "116/116 [==============================] - 548s 5s/step - loss: 0.8385 - accuracy: 0.6695 - val_loss: 0.9336 - val_accuracy: 0.6597\n",
      "Epoch 9/20\n",
      "116/116 [==============================] - 539s 5s/step - loss: 0.9183 - accuracy: 0.6686 - val_loss: 0.8532 - val_accuracy: 0.6656\n",
      "Epoch 10/20\n",
      "116/116 [==============================] - 543s 5s/step - loss: 0.8456 - accuracy: 0.6671 - val_loss: 0.8041 - val_accuracy: 0.6649\n",
      "Epoch 11/20\n",
      "116/116 [==============================] - 535s 5s/step - loss: 0.8053 - accuracy: 0.6724 - val_loss: 0.8795 - val_accuracy: 0.6288\n",
      "Epoch 12/20\n",
      "116/116 [==============================] - 555s 5s/step - loss: 0.8104 - accuracy: 0.6775 - val_loss: 0.8337 - val_accuracy: 0.6449\n",
      "Epoch 13/20\n",
      "116/116 [==============================] - 550s 5s/step - loss: 0.7733 - accuracy: 0.6884 - val_loss: 0.7959 - val_accuracy: 0.6852\n",
      "Epoch 14/20\n",
      "116/116 [==============================] - 555s 5s/step - loss: 0.7580 - accuracy: 0.6960 - val_loss: 0.9881 - val_accuracy: 0.6597\n",
      "Epoch 15/20\n",
      "116/116 [==============================] - 550s 5s/step - loss: 0.9352 - accuracy: 0.6575 - val_loss: 0.9121 - val_accuracy: 0.6597\n",
      "Epoch 16/20\n",
      "116/116 [==============================] - 547s 5s/step - loss: 0.9073 - accuracy: 0.6677 - val_loss: 0.8944 - val_accuracy: 0.6597\n",
      "Epoch 17/20\n",
      "116/116 [==============================] - 549s 5s/step - loss: 0.8843 - accuracy: 0.6714 - val_loss: 0.8652 - val_accuracy: 0.6602\n",
      "Epoch 18/20\n",
      "116/116 [==============================] - 553s 5s/step - loss: 0.8147 - accuracy: 0.6789 - val_loss: 0.7967 - val_accuracy: 0.6686\n",
      "Epoch 19/20\n",
      "116/116 [==============================] - 557s 5s/step - loss: 0.7700 - accuracy: 0.6911 - val_loss: 0.8320 - val_accuracy: 0.6663\n",
      "Epoch 20/20\n",
      "116/116 [==============================] - 559s 5s/step - loss: 0.7783 - accuracy: 0.6863 - val_loss: 0.7459 - val_accuracy: 0.6973\n"
     ]
    },
    {
     "data": {
      "text/plain": [
       "<tensorflow.python.keras.callbacks.History at 0x1fd4c38b4f0>"
      ]
     },
     "execution_count": 66,
     "metadata": {},
     "output_type": "execute_result"
    }
   ],
   "source": [
    "model1.fit(x_train,y_train, validation_split=0.25, epochs=20, batch_size=512)"
   ]
  },
  {
   "cell_type": "code",
   "execution_count": 67,
   "metadata": {},
   "outputs": [
    {
     "name": "stdout",
     "output_type": "stream",
     "text": [
      "26/26 [==============================] - 70s 3s/step - loss: 0.7278 - accuracy: 0.7028\n"
     ]
    }
   ],
   "source": [
    "score,acc = model1.evaluate(x_test,y_test, verbose=1, batch_size=1024)"
   ]
  },
  {
   "cell_type": "code",
   "execution_count": 68,
   "metadata": {},
   "outputs": [
    {
     "data": {
      "text/plain": [
       "0.7277776002883911"
      ]
     },
     "execution_count": 68,
     "metadata": {},
     "output_type": "execute_result"
    }
   ],
   "source": [
    "score"
   ]
  },
  {
   "cell_type": "code",
   "execution_count": 69,
   "metadata": {},
   "outputs": [
    {
     "data": {
      "text/plain": [
       "0.7027809619903564"
      ]
     },
     "execution_count": 69,
     "metadata": {},
     "output_type": "execute_result"
    }
   ],
   "source": [
    "acc"
   ]
  },
  {
   "cell_type": "markdown",
   "metadata": {},
   "source": [
    "### LSTM"
   ]
  },
  {
   "cell_type": "code",
   "execution_count": 70,
   "metadata": {},
   "outputs": [],
   "source": [
    "model2 = Sequential()\n",
    "model2.add(Embedding(num_words,32,input_length=512))\n",
    "model2.add(Dropout(0.2))\n",
    "model2.add(LSTM(64,recurrent_dropout=0.5))\n",
    "model2.add(Dropout(0.2))\n",
    "model2.add(Dense(4,activation='sigmoid'))\n",
    "model2.compile(loss='categorical_crossentropy', optimizer='adam', metrics=['accuracy'])"
   ]
  },
  {
   "cell_type": "code",
   "execution_count": 71,
   "metadata": {},
   "outputs": [
    {
     "name": "stdout",
     "output_type": "stream",
     "text": [
      "Model: \"sequential_3\"\n",
      "_________________________________________________________________\n",
      "Layer (type)                 Output Shape              Param #   \n",
      "=================================================================\n",
      "embedding_3 (Embedding)      (None, 512, 32)           262912    \n",
      "_________________________________________________________________\n",
      "dropout_5 (Dropout)          (None, 512, 32)           0         \n",
      "_________________________________________________________________\n",
      "lstm (LSTM)                  (None, 64)                24832     \n",
      "_________________________________________________________________\n",
      "dropout_6 (Dropout)          (None, 64)                0         \n",
      "_________________________________________________________________\n",
      "dense_3 (Dense)              (None, 4)                 260       \n",
      "=================================================================\n",
      "Total params: 288,004\n",
      "Trainable params: 288,004\n",
      "Non-trainable params: 0\n",
      "_________________________________________________________________\n"
     ]
    }
   ],
   "source": [
    "model2.summary()"
   ]
  },
  {
   "cell_type": "code",
   "execution_count": 73,
   "metadata": {},
   "outputs": [
    {
     "name": "stdout",
     "output_type": "stream",
     "text": [
      "Epoch 1/2\n",
      "116/116 [==============================] - 274s 2s/step - loss: 1.0536 - accuracy: 0.6420 - val_loss: 0.8928 - val_accuracy: 0.6694\n",
      "Epoch 2/2\n",
      "116/116 [==============================] - 300s 3s/step - loss: 0.7327 - accuracy: 0.7142 - val_loss: 0.6733 - val_accuracy: 0.7469\n"
     ]
    },
    {
     "data": {
      "text/plain": [
       "<tensorflow.python.keras.callbacks.History at 0x1fd2a2406a0>"
      ]
     },
     "execution_count": 73,
     "metadata": {},
     "output_type": "execute_result"
    }
   ],
   "source": [
    "model2.fit(x_train,y_train,validation_split=0.25, epochs=2, batch_size=512)"
   ]
  },
  {
   "cell_type": "code",
   "execution_count": 74,
   "metadata": {},
   "outputs": [
    {
     "name": "stdout",
     "output_type": "stream",
     "text": [
      "26/26 [==============================] - 25s 973ms/step - loss: 0.6543 - accuracy: 0.7537\n"
     ]
    }
   ],
   "source": [
    "score, acc = model2.evaluate(x_test, y_test, verbose=1, batch_size=1024)"
   ]
  },
  {
   "cell_type": "markdown",
   "metadata": {},
   "source": [
    "### LSTM +CNN"
   ]
  },
  {
   "cell_type": "code",
   "execution_count": 75,
   "metadata": {},
   "outputs": [],
   "source": [
    "model3 =Sequential()\n",
    "model3.add(Embedding(num_words,32,input_length=512))\n",
    "model3.add(Dropout(0.2))\n",
    "model3.add(Conv1D(64,5,activation='relu'))\n",
    "model3.add(MaxPooling1D(pool_size=4))\n",
    "model3.add(LSTM(64,recurrent_dropout=0.2))\n",
    "model3.add(Dropout(0.2))\n",
    "model3.add(Dense(4,activation='sigmoid'))\n",
    "model3.compile(loss='categorical_crossentropy', optimizer='adam', metrics=['accuracy'])"
   ]
  },
  {
   "cell_type": "code",
   "execution_count": 76,
   "metadata": {},
   "outputs": [
    {
     "name": "stdout",
     "output_type": "stream",
     "text": [
      "Model: \"sequential_4\"\n",
      "_________________________________________________________________\n",
      "Layer (type)                 Output Shape              Param #   \n",
      "=================================================================\n",
      "embedding_4 (Embedding)      (None, 512, 32)           262912    \n",
      "_________________________________________________________________\n",
      "dropout_7 (Dropout)          (None, 512, 32)           0         \n",
      "_________________________________________________________________\n",
      "conv1d (Conv1D)              (None, 508, 64)           10304     \n",
      "_________________________________________________________________\n",
      "max_pooling1d (MaxPooling1D) (None, 127, 64)           0         \n",
      "_________________________________________________________________\n",
      "lstm_1 (LSTM)                (None, 64)                33024     \n",
      "_________________________________________________________________\n",
      "dropout_8 (Dropout)          (None, 64)                0         \n",
      "_________________________________________________________________\n",
      "dense_4 (Dense)              (None, 4)                 260       \n",
      "=================================================================\n",
      "Total params: 306,500\n",
      "Trainable params: 306,500\n",
      "Non-trainable params: 0\n",
      "_________________________________________________________________\n"
     ]
    }
   ],
   "source": [
    "model3.summary()"
   ]
  },
  {
   "cell_type": "code",
   "execution_count": 77,
   "metadata": {},
   "outputs": [
    {
     "name": "stdout",
     "output_type": "stream",
     "text": [
      "Epoch 1/2\n",
      "116/116 [==============================] - 103s 864ms/step - loss: 1.0050 - accuracy: 0.6390 - val_loss: 0.6841 - val_accuracy: 0.7191\n",
      "Epoch 2/2\n",
      "116/116 [==============================] - 100s 861ms/step - loss: 0.6105 - accuracy: 0.7603 - val_loss: 0.6106 - val_accuracy: 0.7522\n"
     ]
    },
    {
     "data": {
      "text/plain": [
       "<tensorflow.python.keras.callbacks.History at 0x1fd7cea0670>"
      ]
     },
     "execution_count": 77,
     "metadata": {},
     "output_type": "execute_result"
    }
   ],
   "source": [
    "model3.fit(x_train, y_train, validation_split=0.25, epochs=2, batch_size=512)"
   ]
  },
  {
   "cell_type": "code",
   "execution_count": 78,
   "metadata": {},
   "outputs": [
    {
     "name": "stdout",
     "output_type": "stream",
     "text": [
      "26/26 [==============================] - 7s 275ms/step - loss: 0.5943 - accuracy: 0.7603\n"
     ]
    }
   ],
   "source": [
    "score, acc = model3.evaluate(x_test, y_test, verbose=1, batch_size=1024)"
   ]
  },
  {
   "cell_type": "code",
   "execution_count": 79,
   "metadata": {},
   "outputs": [
    {
     "data": {
      "text/plain": [
       "(0.5942938923835754, 0.7602666616439819)"
      ]
     },
     "execution_count": 79,
     "metadata": {},
     "output_type": "execute_result"
    }
   ],
   "source": [
    "score,acc"
   ]
  },
  {
   "cell_type": "markdown",
   "metadata": {},
   "source": [
    "#### 在序列模型中加入卷积操作能加快网络训练时间"
   ]
  },
  {
   "cell_type": "code",
   "execution_count": null,
   "metadata": {},
   "outputs": [],
   "source": []
  }
 ],
 "metadata": {
  "kernelspec": {
   "display_name": "Python 3",
   "language": "python",
   "name": "python3"
  },
  "language_info": {
   "codemirror_mode": {
    "name": "ipython",
    "version": 3
   },
   "file_extension": ".py",
   "mimetype": "text/x-python",
   "name": "python",
   "nbconvert_exporter": "python",
   "pygments_lexer": "ipython3",
   "version": "3.8.3"
  }
 },
 "nbformat": 4,
 "nbformat_minor": 4
}
