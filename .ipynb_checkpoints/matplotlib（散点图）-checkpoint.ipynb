{
 "cells": [
  {
   "cell_type": "markdown",
   "metadata": {},
   "source": [
    "### matplotlib（散点图）"
   ]
  },
  {
   "cell_type": "markdown",
   "metadata": {},
   "source": [
    "散点图反映两个变量之间的相关关系"
   ]
  },
  {
   "cell_type": "markdown",
   "metadata": {},
   "source": [
    "#### scatter函数"
   ]
  },
  {
   "cell_type": "markdown",
   "metadata": {},
   "source": [
    "```plt.scatter(x, y, s=20, \n",
    "            c=None, marker='o', \n",
    "            cmap=None, norm=None, \n",
    "            vmin=None, vmax=None, \n",
    "            alpha=None, linewidths=None, \n",
    "            edgecolors=None)\n",
    "```"
   ]
  },
  {
   "cell_type": "markdown",
   "metadata": {},
   "source": [
    "- x：指定散点图的x轴数据；\n",
    "- y：指定散点图的y轴数据；\n",
    "- s：指定散点图点的大小，默认为20，通过传入新的变量，实现气泡图的绘制；\n",
    "- c：指定散点图点的颜色，默认为蓝色；\n",
    "- marker：指定散点图点的形状，默认为圆形；\n",
    "- cmap：指定色图，只有当c参数是一个浮点型的数组的时候才起作用；\n",
    "- norm：设置数据亮度，标准化到0~1之间，使用该参数仍需要c为浮点型的数组；\n",
    "- vmin、vmax：亮度设置，与norm类似，如果使用了norm则该参数无效；\n",
    "- alpha：设置散点的透明度；\n",
    "- linewidths：设置散点边界线的宽度；\n",
    "- edgecolors：设置散点边界线的颜色；"
   ]
  },
  {
   "cell_type": "code",
   "execution_count": null,
   "metadata": {},
   "outputs": [],
   "source": []
  }
 ],
 "metadata": {
  "kernelspec": {
   "display_name": "Python 3",
   "language": "python",
   "name": "python3"
  },
  "language_info": {
   "codemirror_mode": {
    "name": "ipython",
    "version": 3
   },
   "file_extension": ".py",
   "mimetype": "text/x-python",
   "name": "python",
   "nbconvert_exporter": "python",
   "pygments_lexer": "ipython3",
   "version": "3.7.0"
  }
 },
 "nbformat": 4,
 "nbformat_minor": 2
}
