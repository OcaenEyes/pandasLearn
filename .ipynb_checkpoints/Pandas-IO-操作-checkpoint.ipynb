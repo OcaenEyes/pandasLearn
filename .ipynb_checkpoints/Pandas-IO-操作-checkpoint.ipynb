{
 "cells": [
  {
   "cell_type": "markdown",
   "metadata": {},
   "source": [
    "### Pandas-IO-操作"
   ]
  },
  {
   "cell_type": "markdown",
   "metadata": {},
   "source": [
    "- CSV\n",
    "    - read_csv\n",
    "    - to_csv\n",
    "- JSON\n",
    "    - read_json\n",
    "    - to_json\n",
    "- HTML\n",
    "    - read_html\n",
    "    - to_html\n",
    "- clipboard\n",
    "    - read_clipboard\n",
    "    - to_clipboard\n",
    "- Excel\n",
    "    - read_excel\n",
    "    - to_excel\n",
    "- HDF5\n",
    "    - read_hdf\n",
    "    - to_hdf\n",
    "- Feather\n",
    "    - read_feather\n",
    "    - to_feather\n",
    "- Msgpack\n",
    "    - read_msgpack\n",
    "    - to_msgpack\n",
    "- Stata\n",
    "    - read_stata\n",
    "    - to_stata\n",
    "- SAS\n",
    "    - read_sas\n",
    "- Python Pickle\n",
    "    - read_pickle\n",
    "    - to_pickle\n",
    "- SQL\n",
    "    - read_sql\n",
    "    - to_sql\n",
    "- Google Big Query\n",
    "    - read_gbq\n",
    "    - to_gbq"
   ]
  },
  {
   "cell_type": "code",
   "execution_count": null,
   "metadata": {},
   "outputs": [],
   "source": []
  }
 ],
 "metadata": {
  "kernelspec": {
   "display_name": "Python 3",
   "language": "python",
   "name": "python3"
  },
  "language_info": {
   "codemirror_mode": {
    "name": "ipython",
    "version": 3
   },
   "file_extension": ".py",
   "mimetype": "text/x-python",
   "name": "python",
   "nbconvert_exporter": "python",
   "pygments_lexer": "ipython3",
   "version": "3.7.1"
  }
 },
 "nbformat": 4,
 "nbformat_minor": 2
}
