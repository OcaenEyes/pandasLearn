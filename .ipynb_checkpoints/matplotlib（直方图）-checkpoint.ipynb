{
 "cells": [
  {
   "cell_type": "markdown",
   "metadata": {},
   "source": [
    "### matplotlib（直方图）"
   ]
  },
  {
   "cell_type": "markdown",
   "metadata": {},
   "source": [
    "#### hist函数"
   ]
  },
  {
   "cell_type": "markdown",
   "metadata": {},
   "source": [
    "``` plt.hist(x, bins=10, range=None, normed=False, \n",
    "        weights=None, cumulative=False, bottom=None, \n",
    "        histtype='bar', align='mid', orientation='vertical', \n",
    "        rwidth=None, log=False, color=None, \n",
    "        label=None, stacked=False)```"
   ]
  },
  {
   "cell_type": "markdown",
   "metadata": {},
   "source": [
    "- x：指定要绘制直方图的数据；\n",
    "- bins：指定直方图条形的个数；\n",
    "- range：指定直方图数据的上下界，默认包含绘图数据的最大值和最小值；\n",
    "- normed：是否将直方图的频数转换成频率；\n",
    "- weights：该参数可为每一个数据点设置权重；\n",
    "- cumulative：是否需要计算累计频数或频率；\n",
    "- bottom：可以为直方图的每个条形添加基准线，默认为0；\n",
    "- histtype：指定直方图的类型，默认为bar，除此还有’barstacked’, ‘step’,  ‘stepfilled’；\n",
    "- align：设置条形边界值的对其方式，默认为mid，除此还有’left’和’right’；\n",
    "- orientation：设置直方图的摆放方向，默认为垂直方向；\n",
    "- rwidth：设置直方图条形宽度的百分比；\n",
    "- log：是否需要对绘图数据进行log变换；\n",
    "- color：设置直方图的填充色；\n",
    "- label：设置直方图的标签，可通过legend展示其图例；\n",
    "- stacked：当有多个数据时，是否需要将直方图呈堆叠摆放，默认水平摆放；"
   ]
  },
  {
   "cell_type": "code",
   "execution_count": null,
   "metadata": {},
   "outputs": [],
   "source": []
  }
 ],
 "metadata": {
  "kernelspec": {
   "display_name": "Python 3",
   "language": "python",
   "name": "python3"
  },
  "language_info": {
   "codemirror_mode": {
    "name": "ipython",
    "version": 3
   },
   "file_extension": ".py",
   "mimetype": "text/x-python",
   "name": "python",
   "nbconvert_exporter": "python",
   "pygments_lexer": "ipython3",
   "version": "3.7.0"
  }
 },
 "nbformat": 4,
 "nbformat_minor": 2
}
