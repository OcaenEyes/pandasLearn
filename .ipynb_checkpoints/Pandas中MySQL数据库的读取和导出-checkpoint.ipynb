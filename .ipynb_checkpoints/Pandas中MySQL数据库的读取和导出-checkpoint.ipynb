{
 "cells": [
  {
   "cell_type": "markdown",
   "metadata": {},
   "source": [
    "### Pandas中MySQL 数据库的读取和导出"
   ]
  },
  {
   "cell_type": "markdown",
   "metadata": {},
   "source": [
    "#### 1、数据库文件导入Python"
   ]
  },
  {
   "cell_type": "markdown",
   "metadata": {},
   "source": [
    "- 可使用 sqlalchemy 库的 create_engine\n",
    "- 具体的读取方式\n",
    "    - read_sql(sql,con=数据库连接)\n",
    "    - sql:从数据库中查询数据的SQL语句\n",
    "    - con：数据库的连接对象，需要在程序中先创建"
   ]
  },
  {
   "cell_type": "markdown",
   "metadata": {},
   "source": [
    "#### 2、 Python里的DataFrame导出到MySQL数据库"
   ]
  },
  {
   "cell_type": "markdown",
   "metadata": {},
   "source": [
    "- 具体的方法为：\n",
    "    - to_sql(tableName,con=数据库连接)\n",
    "    - tableName：数据库中的表名\n",
    "    - con：数据库的连接对象，需要在程序中先创建\n",
    "    - 导出到数据库如果已经有表那么就是删除这个表再保存数据，使用if_exists='append'则选择的是追加数据"
   ]
  },
  {
   "cell_type": "code",
   "execution_count": null,
   "metadata": {},
   "outputs": [],
   "source": []
  }
 ],
 "metadata": {
  "kernelspec": {
   "display_name": "Python 3",
   "language": "python",
   "name": "python3"
  },
  "language_info": {
   "codemirror_mode": {
    "name": "ipython",
    "version": 3
   },
   "file_extension": ".py",
   "mimetype": "text/x-python",
   "name": "python",
   "nbconvert_exporter": "python",
   "pygments_lexer": "ipython3",
   "version": "3.7.0"
  }
 },
 "nbformat": 4,
 "nbformat_minor": 2
}
