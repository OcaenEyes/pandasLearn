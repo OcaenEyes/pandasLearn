{
 "cells": [
  {
   "cell_type": "markdown",
   "metadata": {},
   "source": [
    "### Python 数值计算及正则表达式"
   ]
  },
  {
   "cell_type": "markdown",
   "metadata": {},
   "source": [
    "#### 运算符"
   ]
  },
  {
   "cell_type": "markdown",
   "metadata": {},
   "source": [
    "- 数值运算"
   ]
  },
  {
   "cell_type": "markdown",
   "metadata": {},
   "source": [
    "     \" + 、-  、 * 、 /  \"\n",
    "\n",
    "     \" % (求余数)     \"\n",
    " \n",
    "     \"  // （注意python中整除是floor除，即向下除法）\""
   ]
  },
  {
   "cell_type": "code",
   "execution_count": 1,
   "metadata": {},
   "outputs": [
    {
     "name": "stdout",
     "output_type": "stream",
     "text": [
      "11\n"
     ]
    }
   ],
   "source": [
    "print(23//2)"
   ]
  },
  {
   "cell_type": "markdown",
   "metadata": {},
   "source": [
    "- 比较运算符"
   ]
  },
  {
   "cell_type": "markdown",
   "metadata": {},
   "source": [
    "    \" > 、 >= 、 < 、<=  \"\n",
    "\n",
    "    \" ==  判断两个对象是否相等\"\n",
    "\n",
    "    \" !=  判断两个对象是否不相等\""
   ]
  },
  {
   "cell_type": "markdown",
   "metadata": {},
   "source": [
    "- 逻辑运算"
   ]
  },
  {
   "cell_type": "markdown",
   "metadata": {},
   "source": [
    "    \" or (或)   and（且）    not(非)\""
   ]
  },
  {
   "cell_type": "markdown",
   "metadata": {},
   "source": [
    "#### 数值函数"
   ]
  },
  {
   "cell_type": "markdown",
   "metadata": {},
   "source": [
    "##### python自带数值函数"
   ]
  },
  {
   "cell_type": "markdown",
   "metadata": {},
   "source": [
    "    \"abs    绝对值\"\n",
    "    \n",
    "    \"divmod  返回除法的整数和余数\"\n",
    "    \n",
    "    \" round  四舍五入\"\n",
    "    \n",
    "    \" pow   幂指数运算\""
   ]
  },
  {
   "cell_type": "code",
   "execution_count": 3,
   "metadata": {},
   "outputs": [
    {
     "name": "stdout",
     "output_type": "stream",
     "text": [
      "3.8\n"
     ]
    }
   ],
   "source": [
    "print(abs(-3.8))"
   ]
  },
  {
   "cell_type": "code",
   "execution_count": 5,
   "metadata": {},
   "outputs": [
    {
     "name": "stdout",
     "output_type": "stream",
     "text": [
      "(3, 4)\n"
     ]
    }
   ],
   "source": [
    "print(divmod(19,5))"
   ]
  },
  {
   "cell_type": "code",
   "execution_count": 9,
   "metadata": {},
   "outputs": [
    {
     "name": "stdout",
     "output_type": "stream",
     "text": [
      "4\n"
     ]
    }
   ],
   "source": [
    "print(round(19/5))"
   ]
  },
  {
   "cell_type": "code",
   "execution_count": 10,
   "metadata": {},
   "outputs": [
    {
     "name": "stdout",
     "output_type": "stream",
     "text": [
      "8\n"
     ]
    }
   ],
   "source": [
    "print(pow(2,3))"
   ]
  },
  {
   "cell_type": "markdown",
   "metadata": {},
   "source": [
    "##### math 模块"
   ]
  },
  {
   "cell_type": "markdown",
   "metadata": {},
   "source": [
    "- math.pi\n",
    "- math.e\n",
    "- math.cell(x)           \n",
    "     - 向上求整\n",
    "- math.floor(x)\n",
    "     - 向下取整\n",
    "- math.modf(expression)\n",
    "     - 商的小数部分和整数部分\n",
    "    \n",
    "- math.log2(x)\n",
    "     - 以2为底的对数\n",
    "    \n",
    "- math.log10(x)\n",
    "     - 以10为底的对数\n",
    "    \n",
    "- math.log(x)\n",
    "     - 以e为底的对数\n",
    "    \n",
    "- math.log(x,base)\n",
    "     - 以base为底的对数\n",
    "- math.exp()\n",
    "     - 指数\n",
    "    \n",
    "- math.sqrt()\n",
    "     - 算数平方根\n",
    "    \n",
    "- math.factorial()\n",
    "     - 阶乘\n",
    "- math.fmod()\n",
    "     - 返回浮点型余数"
   ]
  },
  {
   "cell_type": "markdown",
   "metadata": {},
   "source": [
    "#### 字符串处理"
   ]
  },
  {
   "cell_type": "markdown",
   "metadata": {},
   "source": [
    "- 字符串索引与切片"
   ]
  },
  {
   "cell_type": "markdown",
   "metadata": {},
   "source": [
    "- 字符串拼接"
   ]
  },
  {
   "cell_type": "markdown",
   "metadata": {},
   "source": [
    "- 字符串重复"
   ]
  },
  {
   "cell_type": "markdown",
   "metadata": {},
   "source": [
    "#### 字符串的正则表达式"
   ]
  },
  {
   "cell_type": "markdown",
   "metadata": {},
   "source": [
    "- 正则表达式的含义"
   ]
  },
  {
   "cell_type": "markdown",
   "metadata": {},
   "source": [
    "    \"\n",
    "        .  # 点可代表一切字符\n",
    "\n",
    "        \\ # 起转义作用\n",
    "\n",
    "        [...]  # 指代方括号中的任意字符\n",
    "        \n",
    "        \\d  #  指代数字0-9\n",
    "\n",
    "        \\D  # 指代非数字\n",
    "\n",
    "        \\s  # 指代一切空格，包括tab制表符、空格、换行等\n",
    "\n",
    "        \\S  # 指代非空格\n",
    "\n",
    "        \\w  # 指代大小写字母、数字和下划线\n",
    "\n",
    "        \\W  # 指代非大小写字母、数字和下划线\n",
    "    \n",
    "        *  # 匹配前面字符 >=0 次\n",
    "\n",
    "        +  # 匹配前面字符1次及以上\n",
    "\n",
    "        ?  # 匹配前面字符0次或1次\n",
    "\n",
    "        {m} # 匹配m次\n",
    "\n",
    "        {m,n}  # 匹配m到n次\n",
    "\n",
    "        {m,}  # 至少匹配m次\n",
    "    \n",
    "    \""
   ]
  },
  {
   "cell_type": "markdown",
   "metadata": {},
   "source": [
    "- 结合re模块完成字符串的匹配"
   ]
  },
  {
   "cell_type": "markdown",
   "metadata": {},
   "source": [
    "   - 找"
   ]
  },
  {
   "cell_type": "markdown",
   "metadata": {},
   "source": [
    "  ``` re.findall(pattern, string, flags=0) ```\n",
    "  ```\n",
    "      pattern   ----> 正则表达式\n",
    "      string   ---->  需要处理的字符串\n",
    "      flags   ----->  说明匹配模式\n",
    "  ```"
   ]
  },
  {
   "cell_type": "markdown",
   "metadata": {},
   "source": [
    "- 切"
   ]
  },
  {
   "cell_type": "markdown",
   "metadata": {},
   "source": [
    "```re.split(pattern, string, maxsplit=0, flags=0) ```\n",
    "\n",
    "```\n",
    "    pattern-->正则表达式\n",
    "    string-->需要处理的字符串\n",
    "    maxsplit-->最大匹配次数。0表示匹配所有次  \n",
    "```"
   ]
  },
  {
   "cell_type": "markdown",
   "metadata": {},
   "source": [
    "- 替"
   ]
  },
  {
   "cell_type": "markdown",
   "metadata": {},
   "source": [
    "``` sub(pattern, repl, string, count=0, flags=0)```\n",
    "\n",
    "```\n",
    "    repl-->新的替换内容\n",
    "    string-->需要处理的字符串\n",
    "    count-->替换次数。0表示匹配替换所有次\n",
    "    flags-->匹配模式\n",
    "    \n",
    "```"
   ]
  },
  {
   "cell_type": "code",
   "execution_count": null,
   "metadata": {},
   "outputs": [],
   "source": []
  }
 ],
 "metadata": {
  "kernelspec": {
   "display_name": "Python 3",
   "language": "python",
   "name": "python3"
  },
  "language_info": {
   "codemirror_mode": {
    "name": "ipython",
    "version": 3
   },
   "file_extension": ".py",
   "mimetype": "text/x-python",
   "name": "python",
   "nbconvert_exporter": "python",
   "pygments_lexer": "ipython3",
   "version": "3.7.0"
  }
 },
 "nbformat": 4,
 "nbformat_minor": 2
}
