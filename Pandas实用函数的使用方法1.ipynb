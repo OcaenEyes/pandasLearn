{
 "cells": [
  {
   "cell_type": "markdown",
   "metadata": {},
   "source": [
    "### Pandas实用函数的使用方法1"
   ]
  },
  {
   "cell_type": "markdown",
   "metadata": {},
   "source": [
    "- 1 查看前几行和后几行数据，括号里选择行的参数\n",
    "- 2 对数值数据进行统计各类指标\n",
    "- 3 选择数据的行、列索引和数值\n",
    "- 4 对数据进行排序用到了sort_values\n",
    "- 5 pandas 的value_counts()函数\n",
    "- 6 describe函数（统计计数函数）\n",
    "- 7 pandas的字符串的分割之str.split()\n",
    "- 8 pandas的分列之不规则字符串及str.extract()\n",
    "- 9 pandas设置和修改索引，计数，多表交叉合并\n",
    "- 10 pandas 的 行、列重排序 reindex()\n",
    "- 11 pandas的填充缺失值fillna()和inplace函数\n",
    "- 12 pandas的替换和部分替换（replace）\n",
    "- 13 pandas的修改列名和索引rename()\n",
    "- 14 pandas将多个具有相同列名的文件合并成一个文件\n",
    "- 15 pandas的分段函数cut()\n",
    "- 16 pandas的将excel文件储存成多个文件\n",
    "- 17 pandas的设置数字格式，小数位数、百分号、千位分隔符\n",
    "- 18 pandas的duplicated和drop_duplicaates函数\n",
    "- 19 pandas的merge合并函数\n",
    "- 20 pandas的concat()合并和多组数据合并"
   ]
  },
  {
   "cell_type": "code",
   "execution_count": null,
   "metadata": {},
   "outputs": [],
   "source": []
  }
 ],
 "metadata": {
  "kernelspec": {
   "display_name": "Python 3",
   "language": "python",
   "name": "python3"
  },
  "language_info": {
   "codemirror_mode": {
    "name": "ipython",
    "version": 3
   },
   "file_extension": ".py",
   "mimetype": "text/x-python",
   "name": "python",
   "nbconvert_exporter": "python",
   "pygments_lexer": "ipython3",
   "version": "3.7.0"
  }
 },
 "nbformat": 4,
 "nbformat_minor": 2
}
