{
 "cells": [
  {
   "cell_type": "markdown",
   "metadata": {},
   "source": [
    "### matplotlib（面积图）"
   ]
  },
  {
   "cell_type": "markdown",
   "metadata": {},
   "source": [
    "折线图表达的思想史某个时间序列的趋势；\n",
    "\n",
    "面积图直观表达分组趋势和总量趋势"
   ]
  },
  {
   "cell_type": "markdown",
   "metadata": {},
   "source": [
    "#### stackplot函数"
   ]
  },
  {
   "cell_type": "markdown",
   "metadata": {},
   "source": [
    "```stackplot(x,*args,**kargs)```\n",
    "\n",
    "- x指定面积图的x轴数据\n",
    "- *args为可变参数，可以接受任意多的y轴数据，即各个拆分的数据对象\n",
    "- **kargs为关键字参数，可以通过传递其他参数来修饰面积图，如标签、颜色\n",
    "- 可用的关键字参数：\n",
    "    - labels:以列表的形式传递每一块面积图包含的标签，通过图例展现\n",
    "    - colors:设置不同的颜色填充面积图"
   ]
  },
  {
   "cell_type": "code",
   "execution_count": null,
   "metadata": {},
   "outputs": [],
   "source": []
  }
 ],
 "metadata": {
  "kernelspec": {
   "display_name": "Python 3",
   "language": "python",
   "name": "python3"
  },
  "language_info": {
   "codemirror_mode": {
    "name": "ipython",
    "version": 3
   },
   "file_extension": ".py",
   "mimetype": "text/x-python",
   "name": "python",
   "nbconvert_exporter": "python",
   "pygments_lexer": "ipython3",
   "version": "3.7.0"
  }
 },
 "nbformat": 4,
 "nbformat_minor": 2
}
